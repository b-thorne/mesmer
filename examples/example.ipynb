{
 "cells": [
  {
   "cell_type": "markdown",
   "metadata": {},
   "source": [
    "# `mesmer` example\n",
    "\n",
    "`mesmer` is a foreground component separation code. It is centered around a `LogProb` object which calculates the posterior of foreground spectral parameters in a given model, marginalized over the foreground amplitudes. In this model, all ampltidue terms are Gaussian-distributed, and so can be sampled with 100% acceptance rate once the marginal distribution of spectral parameters is calculated.\n",
    "\n",
    "For demonstration purposes we will generate some fake data, and calculate the posterior foreground parameters using `mesmer.LogProb`.\n",
    "\n",
    "First we set up some simple fake data with the `fake_data` function below. This data simulates observations at `nfreq` frequencies, with white noise at all frequencies with a pixel RMS of `sens=4`. The signal component is taken to be a sum of dust, synchrotron, and CMB, all with spatially uniform emission, and spatially uniform spectral dependency. Therefore, teh data is correctly modeled by the parametric model in `LogProb`."
   ]
  },
  {
   "cell_type": "code",
   "execution_count": 1,
   "metadata": {},
   "outputs": [
    {
     "name": "stderr",
     "output_type": "stream",
     "text": [
      "/home/bthorne/.cache/pypoetry/virtualenvs/mesmer-7PBZ4nd--py3.8/lib/python3.8/site-packages/jax/lib/xla_bridge.py:130: UserWarning: No GPU/TPU found, falling back to CPU.\n",
      "  warnings.warn('No GPU/TPU found, falling back to CPU.')\n"
     ]
    }
   ],
   "source": [
    "import mesmer\n",
    "import jax\n",
    "import matplotlib.pyplot as plt\n",
    "\n",
    "true_beta_s = -3.\n",
    "true_beta_d = 1.5\n",
    "true_params = jax.numpy.array([true_beta_d, true_beta_s])\n",
    "\n",
    "def fake_data(beta_s, beta_d):\n",
    "    \"\"\" Generate fake data.\n",
    "    \"\"\"\n",
    "    # import numpy only in this scope, as we don't want to get confused with jax's numpy.\n",
    "    import numpy as np\n",
    "\n",
    "    nfreq = 13\n",
    "    sens = 4.\n",
    "    npix = 100\n",
    "\n",
    "    dust_template = 100. * np.ones((1, 2, npix))\n",
    "    freq_d = 353.\n",
    "    T_d = 20.\n",
    "\n",
    "    sync_template = 5 * np.ones((1, 2, npix))\n",
    "    freq_s = 23.\n",
    "\n",
    "    cmb_template = 10. * np.ones((1, 2, npix))\n",
    "\n",
    "    freq_obs = np.array([10., 23., 30., 40., 95., 100., 145., 220., 270., 300., 353., 545, 800])\n",
    "    assert len(freq_obs) == nfreq\n",
    "    sensitivities = np.array([sens] * nfreq)\n",
    "\n",
    "\n",
    "    hnkt_ref = 0.0479924466 * freq_d / T_d\n",
    "    dust_fn = lambda nu: (nu / freq_d) ** (beta_d + 1) * (np.exp(hnkt_ref) - 1) / (np.exp(0.0479924466 * nu / T_d) - 1)\n",
    "    sync_fn = lambda nu: (nu / freq_s) ** (beta_s)\n",
    "    cmb_fn = lambda nu: np.exp(0.0176086761 * nu) * (0.0176086761 * nu / (np.exp(0.0176086761 * nu) - 1)) ** 2\n",
    "\n",
    "    dust_scaling = np.array(list(map(dust_fn, freq_obs)))\n",
    "    dust_scaled = dust_scaling[:, None, None] * dust_template\n",
    "\n",
    "    sync_scaling = np.array(list(map(sync_fn, freq_obs)))\n",
    "    sync_scaled = sync_scaling[:, None, None] * sync_template\n",
    "\n",
    "    cmb_scaling = np.array(list(map(cmb_fn, freq_obs)))\n",
    "    cmb_scaled = cmb_scaling[:, None, None] * cmb_template\n",
    "\n",
    "    data = dust_scaled + cmb_scaled + sync_scaled\n",
    "    covariance=np.ones((nfreq, 2, npix)) * sensitivities[:, None, None] ** 2\n",
    "\n",
    "    noise = np.random.randn(nfreq, 2, npix) * np.sqrt(covariance)\n",
    "    data += noise\n",
    "\n",
    "    templates=(dust_template, sync_template, cmb_template)\n",
    "    scaled_maps = (dust_scaled, sync_scaled, cmb_scaled)\n",
    "\n",
    "    return (freq_obs, beta_s, beta_d, templates, scaled_maps, data, covariance)\n",
    "\n",
    "frequencies, true_beta_s, true_beta_d, templates, scaled_maps, data, covariance = fake_data(true_beta_s, true_beta_d)"
   ]
  },
  {
   "cell_type": "markdown",
   "metadata": {},
   "source": [
    "## Model definition\n",
    "\n",
    "Next we define the model to fit. Each key of the `model` dictionary corresponds to a function name, as defined in `mesmer.seds`. The whichever arguments to these functions are to be fixed must be specified as a subdictionary, as shown. Whichever parameters are to be varied are also specified in a separate subdictionary, and a prior is specified by a tuple containing `(mean, std)`."
   ]
  },
  {
   "cell_type": "code",
   "execution_count": 2,
   "metadata": {},
   "outputs": [],
   "source": [
    "model = {\n",
    "        'dustmbb': {\n",
    "            'varied': { # here we specify a Gaussian prior of 0.5 standard deviation around the true beta_d value\n",
    "                'beta_d': [true_beta_d, 0.5]\n",
    "            }, # we fix the other two parameters of the dust SED.\n",
    "            'fixed': {\n",
    "                'T_d': 20.,\n",
    "                'nu_ref_d': 353.,\n",
    "            }\n",
    "        },\n",
    "        'syncpl': {\n",
    "            'varied': {\n",
    "                'beta_s': [true_beta_s, 0.5]\n",
    "            },\n",
    "            'fixed': {\n",
    "                'nu_ref_s': 23.,\n",
    "            }\n",
    "        }, # although the CMB has no parameters, the model will currently expect these keywords to be present. This needs to be fixed.\n",
    "        'cmb': {\n",
    "            'varied': {\n",
    "            },\n",
    "            'fixed': {\n",
    "            }\n",
    "        },\n",
    "    }"
   ]
  },
  {
   "cell_type": "markdown",
   "metadata": {},
   "source": [
    "## `mesmer.LogProb` instantiation\n",
    "\n",
    "The `LogProb` object is then instantiated with the data, the pixel covariance, the frequencies at which this data is taken, and the model dictionary.\n",
    "\n",
    "The `data` is assumed to have shape `(nfreq, npol, npix)`, where `npix` is the pixel dimension, which can be a HEALPix map, or a flattened two dimensional map. \n",
    "\n",
    "The `covariance` must have the same shape as the data, and contains the noise variance in each pixel. The model assumes noise is uncorrelated between pixels and between channels.\n",
    "\n",
    "The `frequencies` value is an array containing the frequencies observed, in GHz.\n",
    "\n",
    "The `model` value is the dictionary we have specified above."
   ]
  },
  {
   "cell_type": "code",
   "execution_count": 3,
   "metadata": {},
   "outputs": [
    {
     "name": "stdout",
     "output_type": "stream",
     "text": [
      "['beta_d', 'beta_s']\n"
     ]
    }
   ],
   "source": [
    "logprob = mesmer.LogProb(data=data, covariance=covariance, frequencies=frequencies, model=model)\n",
    "# check which parameters are free, and the assumed ordering when calling the `LogProb` object.\n",
    "print(logprob.free_parameters)"
   ]
  },
  {
   "cell_type": "markdown",
   "metadata": {},
   "source": [
    "## Maximum Likelihood Estimation\n",
    "\n",
    "We can estimate the maximum likelihood spectral parameters by maximizing `LogProb`. We can use the `ret_neg` flag to return the negative log probability, and so use `scipy`'s `minimize` routine."
   ]
  },
  {
   "cell_type": "code",
   "execution_count": 4,
   "metadata": {},
   "outputs": [],
   "source": [
    "from scipy.optimize import minimize"
   ]
  },
  {
   "cell_type": "code",
   "execution_count": 5,
   "metadata": {},
   "outputs": [],
   "source": [
    "min_res = minimize(logprob, true_params, tol=1e-9, args=(True), method='Powell')"
   ]
  },
  {
   "cell_type": "code",
   "execution_count": 6,
   "metadata": {},
   "outputs": [
    {
     "name": "stdout",
     "output_type": "stream",
     "text": [
      "Successfully minimized, result: [ 1.5027626 -2.8763366]\n"
     ]
    }
   ],
   "source": [
    "try:\n",
    "    assert min_res.success\n",
    "    print(f\"Successfully minimized, result: {min_res.x}\")\n",
    "except AssertionError:\n",
    "    raise AssertionError(\"Did not optimize successfully.\")"
   ]
  },
  {
   "cell_type": "markdown",
   "metadata": {},
   "source": [
    "With autograd, we can also calculate the Hessian of the likelihood at this point in parameter space to get an estimate of the uncertainties."
   ]
  },
  {
   "cell_type": "code",
   "execution_count": 7,
   "metadata": {},
   "outputs": [
    {
     "name": "stdout",
     "output_type": "stream",
     "text": [
      "Hessian evaluated [[176363.56      2317.1653 ]\n",
      " [  2317.1614     184.01591]]\n",
      "Fishers estimates of uncertainty:  0.0026065595 0.08069458\n"
     ]
    }
   ],
   "source": [
    "hessian = jax.jacfwd(jax.jacrev(logprob))\n",
    "hessian_eval = hessian(min_res.x, True)\n",
    "print(\"Hessian evaluated\", hessian_eval)\n",
    "\n",
    "fish_est = jax.numpy.linalg.inv(hessian_eval)\n",
    "print(\"Fishers estimates of uncertainty: \", jax.numpy.sqrt(fish_est[0, 0]), jax.numpy.sqrt(fish_est[1, 1]))"
   ]
  },
  {
   "cell_type": "markdown",
   "metadata": {},
   "source": [
    "## Hamiltonian Monte Carlo\n",
    "\n",
    "Since `mesmer` uses the `jax`, we can also use the `tensorflow` samplers that are built on `jax`. This is still an experimental feature of Tensorflow Probability, and is likely to break at some point in the future. The `jax`-backed samplers are only available when using the `tf-nightly` and `tfp-nightly` builds. \n",
    "\n",
    "In this section we use an \"out-of-the-box\" Hamiltonian Monte Carlo sampler to demonstrate the idea. This is total overkill for the two-parameter model we are considering here."
   ]
  },
  {
   "cell_type": "code",
   "execution_count": 8,
   "metadata": {},
   "outputs": [],
   "source": [
    "from tensorflow_probability.python.internal.backend import numpy as tf\n",
    "import tensorflow_probability as tfp; tfp = tfp.substrates.jax\n",
    "\n",
    "# Initialize the HMC transition kernel.\n",
    "num_results = int(10e3)\n",
    "num_burnin_steps = int(2e3)\n",
    "adaptive_hmc = tfp.mcmc.SimpleStepSizeAdaptation(\n",
    "    tfp.mcmc.HamiltonianMonteCarlo(\n",
    "        target_log_prob_fn=logprob,\n",
    "        num_leapfrog_steps=5,\n",
    "        step_size=.05),\n",
    "    num_adaptation_steps=int(num_burnin_steps * 0.8))\n",
    "\n",
    "rng = jax.random.PRNGKey(124)"
   ]
  },
  {
   "cell_type": "code",
   "execution_count": 9,
   "metadata": {},
   "outputs": [
    {
     "name": "stdout",
     "output_type": "stream",
     "text": [
      "mean:-0.6939  stddev:2.1966  acceptance:0.5294\n"
     ]
    }
   ],
   "source": [
    "# Run the chain (with burn-in).\n",
    "@tf.function\n",
    "def run_chain():\n",
    "    # Run the chain (with burn-in).\n",
    "    samples, is_accepted = tfp.mcmc.sample_chain(\n",
    "        num_results=num_results,\n",
    "        num_burnin_steps=num_burnin_steps,\n",
    "        current_state=true_params,\n",
    "        kernel=adaptive_hmc,\n",
    "        seed=rng,trace_fn=lambda _, pkr: pkr.inner_results.is_accepted)\n",
    "\n",
    "    sample_mean = tf.reduce_mean(samples)\n",
    "    sample_stddev = tf.math.reduce_std(samples)\n",
    "    is_accepted = tf.reduce_mean(tf.cast(is_accepted, dtype=tf.float32))\n",
    "    return sample_mean, sample_stddev, is_accepted, samples\n",
    "\n",
    "sample_mean, sample_stddev, is_accepted, samples = run_chain()\n",
    "\n",
    "print('mean:{:.4f}  stddev:{:.4f}  acceptance:{:.4f}'.format(sample_mean, sample_stddev, is_accepted))"
   ]
  },
  {
   "cell_type": "markdown",
   "metadata": {},
   "source": [
    "Let's visualize the trace of each parameters. Clearly, the $\\beta_s$ samples are highly correalted, whereas the $\\beta_d$ samples are well converged."
   ]
  },
  {
   "cell_type": "code",
   "execution_count": 10,
   "metadata": {},
   "outputs": [
    {
     "data": {
      "text/plain": [
       "Text(0.5, 0, 'Step')"
      ]
     },
     "execution_count": 10,
     "metadata": {},
     "output_type": "execute_result"
    },
    {
     "data": {
      "image/png": "[encoded data removed]",
      "text/plain": [
       "<Figure size 432x288 with 2 Axes>"
      ]
     },
     "metadata": {
      "needs_background": "light"
     },
     "output_type": "display_data"
    }
   ],
   "source": [
    "fig, ax = plt.subplots(ncols=1, nrows=2, sharex=True)\n",
    "ax[0].plot(samples[:, 1])\n",
    "ax[0].set_ylabel(r\"$\\beta_s$\")\n",
    "ax[1].plot(samples[:, 0])\n",
    "ax[1].set_ylabel(r\"$\\beta_d$\")\n",
    "ax[1].set_xlabel(r\"Step\")"
   ]
  },
  {
   "cell_type": "code",
   "execution_count": 11,
   "metadata": {},
   "outputs": [
    {
     "name": "stdout",
     "output_type": "stream",
     "text": [
      "[ 1.50204   -2.8897474]\n"
     ]
    }
   ],
   "source": [
    "print(jax.numpy.mean(samples, axis=0))"
   ]
  },
  {
   "cell_type": "markdown",
   "metadata": {},
   "source": [
    "We can now plot histograms of the HMC samples, and compare them to the posteriors deduced by maximizing the posterior, and computing the Hessian using `jax`'s forward / backward Jacobian operators.\n",
    "\n",
    "There is good agreement between these two methods for both parameters, whilst the synchrotron index seems to be more non-Gaussian (though this may be cleared up by generating more samples - we clearly have fewer independent samples of $\\beta_s$ than $\\beta_d$)."
   ]
  },
  {
   "cell_type": "code",
   "execution_count": 12,
   "metadata": {},
   "outputs": [
    {
     "data": {
      "text/plain": [
       "Text(0, 0.5, 'Marginal posterior')"
      ]
     },
     "execution_count": 12,
     "metadata": {},
     "output_type": "execute_result"
    },
    {
     "data": {
      "image/png": "[encoded data removed]",
      "text/plain": [
       "<Figure size 432x288 with 2 Axes>"
      ]
     },
     "metadata": {
      "needs_background": "light"
     },
     "output_type": "display_data"
    }
   ],
   "source": [
    "def gaussian_posterior(x, mean, std):\n",
    "    return 1./ jax.numpy.sqrt(2. * jax.numpy.pi) * 1. / std * jax.numpy.exp(-0.5 * ((x - mean) / std) ** 2)\n",
    "\n",
    "fig, ax = plt.subplots(ncols=2, nrows=1)\n",
    "\n",
    "nbins = 50\n",
    "\n",
    "theta_0_bins = ax[0].hist(samples[:, 0], bins=nbins, density=True)\n",
    "ml = gaussian_posterior(theta_0_bins[1], min_res.x[0], jax.numpy.sqrt(fish_est[0, 0]))\n",
    "ax[0].plot(theta_0_bins[1], ml)\n",
    "ax[0].axvline(x=true_params[0], color='k', linestyle='--')\n",
    "\n",
    "theta_1_bins = ax[1].hist(samples[:, 1], bins=nbins, density=True)\n",
    "ml = gaussian_posterior(theta_1_bins[1], min_res.x[1], jax.numpy.sqrt(fish_est[1, 1]))\n",
    "ax[1].plot(theta_1_bins[1], ml)\n",
    "ax[1].axvline(x=true_params[1], color='k', linestyle='--')\n",
    "\n",
    "ax[0].set_xlabel(r\"$\\beta_d$\")\n",
    "ax[1].set_xlabel(r\"$\\beta_s$\")\n",
    "ax[0].set_ylabel(r\"Marginal posterior\") "
   ]
  }
 ],
 "metadata": {
  "kernelspec": {
   "display_name": "Python 3",
   "language": "python",
   "name": "python3"
  },
  "language_info": {
   "codemirror_mode": {
    "name": "ipython",
    "version": 3
   },
   "file_extension": ".py",
   "mimetype": "text/x-python",
   "name": "python",
   "nbconvert_exporter": "python",
   "pygments_lexer": "ipython3",
   "version": "3.8.5"
  }
 },
 "nbformat": 4,
 "nbformat_minor": 4
}
